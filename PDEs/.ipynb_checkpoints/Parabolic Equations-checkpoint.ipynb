{
 "cells": [
  {
   "cell_type": "markdown",
   "metadata": {},
   "source": [
    "# Parabolic Equations"
   ]
  },
  {
   "cell_type": "markdown",
   "metadata": {},
   "source": [
    "## 1. Simple Linear Parabolic Equations\n",
    "\n",
    "Consider a function $f:\\Omega\\subseteq\\mathbb{R}^2\\longrightarrow\\mathbb{R}$. $f$ is said to satisfy a linear parabolic equation if\n",
    "\n",
    "\\begin{eqnarray*}\n",
    "A\\ f_{xx} + 2B\\ f_{xy} + C\\ f_{yy} + D\\ f_x + E\\ f_y + F\\ f + G &=& 0\n",
    "\\end{eqnarray*}\n",
    "\n",
    "where $A,\\ B,\\ C,\\ D,\\ E,\\ F$ and $G$ are functions of $x$ and $y$ satisfying\n",
    "\n",
    "\\begin{eqnarray*}\n",
    "B^2 - A\\cdot C &=& 0\n",
    "\\end{eqnarray*}\n",
    "\n",
    "Just like ODEs need at least initial conditions to ensure the unicity of a solution, a PDE needs **initial conditions** or **boundary conditions**, depending on the nature of the variables. In particular, boundary conditions (those that account for spatial variables) can be roughly classified into three kinds:\n",
    "\n",
    "<ol>\n",
    "    <li>\n",
    "        <u>Dirichlet conditions</u>: the unknown function satisfies a known equality relation in the boundary:\n",
    "        \\begin{eqnarray*}\n",
    "         & & \\\\\n",
    "        f(x,y) &=& \\varphi(x,y)\\qquad(x,y)\\in\\partial\\Omega\n",
    "        \\end{eqnarray*}\n",
    "        <br>\n",
    "    </li>    \n",
    "    <li>\n",
    "        <u>Neumann conditions</u>: the normal component of the gradient of the unknown function, with respect to the domain boundary, satisfies a known equality relation in the boundary:\n",
    "        \\begin{eqnarray*}\n",
    "        \\vec{\\nabla}f(x,y)\\cdot\\hat{n} &=& \\psi(x,y)\\qquad(x,y)\\in\\partial\\Omega\n",
    "        \\end{eqnarray*}\n",
    "        <br>\n",
    "        Recall $\\hat{n}$ can be computed from a parametrization of $\\partial\\Omega$.\n",
    "    </li>  \n",
    "    <br>\n",
    "    <li>\n",
    "        <u>Mixed conditions</u>: the unknown function and its derivatives satisfy known equality relations in the boundary or other subsets of the domain. A particular case is when these mixed conditions are a combination of Dirichlet and Neuman boundary conditions, which is called a <i>Robin condition</i>:\n",
    "        \\begin{eqnarray*}\n",
    "         & & \\\\\n",
    "        a\\ f(x,y) + b\\ \\vec{\\nabla}f(x,y)\\cdot\\hat{n} &=& \\theta(x,y)\\qquad(x,y)\\in\\partial\\Omega\n",
    "        \\end{eqnarray*}\n",
    "    </li>    \n",
    "</ol>    \n",
    "\n",
    "### 1.1 Examples of Parabolic Equations\n",
    "\n",
    "\n"
   ]
  },
  {
   "cell_type": "markdown",
   "metadata": {},
   "source": []
  },
  {
   "cell_type": "markdown",
   "metadata": {},
   "source": []
  },
  {
   "cell_type": "code",
   "execution_count": null,
   "metadata": {},
   "outputs": [],
   "source": []
  }
 ],
 "metadata": {
  "kernelspec": {
   "display_name": "Python 3",
   "language": "python",
   "name": "python3"
  },
  "language_info": {
   "codemirror_mode": {
    "name": "ipython",
    "version": 3
   },
   "file_extension": ".py",
   "mimetype": "text/x-python",
   "name": "python",
   "nbconvert_exporter": "python",
   "pygments_lexer": "ipython3",
   "version": "3.7.7"
  }
 },
 "nbformat": 4,
 "nbformat_minor": 4
}
