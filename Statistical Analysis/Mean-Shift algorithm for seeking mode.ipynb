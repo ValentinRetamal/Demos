{
 "cells": [
  {
   "cell_type": "markdown",
   "metadata": {},
   "source": [
    "# Mean-Shifting in Kernel Density Estimation for mode-seeking.\n",
    "\n",
    "## 1. Annealed Mean-Shift\n",
    "\n",
    "In plain Kernel Density Estimation (*KDE*), given a set of sampled points $\\left\\lbrace x_i\\right\\rbrace_{i=1}^n\\subseteq\\mathbb{R}^d$ one tries to build a distribution that could resemble the generator of the sample via a normalized (here, averaged) sum of *little* basis functions. Those are called the kernel functions, from which one of the most used would be the ***gaussian kernel***, for efficiency purposes.\n",
    "\n",
    "The estimation of the generating probability density function (*pdf*) is given by\n",
    "\n",
    "$$\\hat{f}_K\\left(x\\right)\\ =\\ \\frac{1}{n}\\sum_{i=1}^nK_H\\left(x-x_i\\right)$$\n",
    "\n",
    "where\n",
    "\n",
    "$$K_H\\ =\\ |H|^{-\\frac{1}{2}}K\\left(H^{-\\frac{1}{2}}x\\right)$$\n",
    "\n",
    "In some applications it is interesting to determine the value of the step matrix $H$, since it provides an optimal way of converging to a distribution minimizing *asymptotic mean integrated squared error* (AMISE) with respect to the real distribution. However, this approach would lead us to know the whole distribution, distracting us from the real purpose of this work. Plus, its complexity is critically dependant on de dimensionality of the problem we are dealing with. For that reason, we focus on tackling the issue of finding the mode of the estimated distribution, via a gradient-ascent-like reasoning.\n",
    "\n",
    "First, for simplicity we can give a convenient shape to $H=h^2I_d$, so that the kernels used are isotropic (i. e., has radial symmetry). Secondly, we adopt another notation for the kernel, for reasons that will soon become apparent:\n",
    "\n",
    "**Definition 1.** Let $K:\\ \\Omega\\subseteq\\mathbb{R}^d\\longrightarrow\\mathbb{R}$ and $k:\\ [0,\\infty)\\longrightarrow\\mathbb{R}$ be functions such that the following hold:\n",
    "\n",
    "- $$K(x)=k(\\|x\\|^2)$$\n",
    "- $k$ is nonnegative\n",
    "- $k$ is nonincreasing\n",
    "- $k$ is piecewise continuous and is integrable\n",
    "\n",
    "where $\\|\\cdot\\|$ stands for the Euclidean norm. Then $K$ is called a kernel, and $k$ is called its profile.\n",
    "\n",
    "For all that concerns this work, the gaussian kernel can be thus represented by its profile function, $k(x)=e^{-x}$. All together, leads to the expression\n",
    "\n",
    "$$\\hat{f}_k\\left(x\\right)\\ =\\ \\frac{c_k}{nh^d}\\sum_{i=1}^nk\\left(\\left\\|\\frac{x-x_i}{h}\\right\\|^2\\right)$$\n",
    "\n",
    "where $c_k$ is a normalization constant. Since the ensemble of smooth functions conforms a smooth function, seeking for modes is equivalent to finding the estimate's greatest critical value. By deriving $\\hat{f}_k$ explicitly, we get the following results:\n",
    "\n",
    "$$\n",
    "\\begin{matrix}\n",
    "\\nabla\\hat{f}_k(x) & = & \\frac{c_k}{nh^d}\\displaystyle\\sum_{i=1}^n\\nabla\\left[k\\left(\\left\\|\\frac{x-x_i}{h}\\right\\|^2\\right)\\right] \\\\\n",
    " & = &  \\frac{c_k}{nh^d}\\displaystyle\\sum_{i=1}^nk'\\left(\\left\\|\\frac{x-x_i}{h}\\right\\|^2\\right)\\nabla\\left[\\left\\|\\frac{x-x_i}{h}\\right\\|^2\\right]\\\\\n",
    " & = &  \\frac{c_k}{nh^d}\\displaystyle\\sum_{i=1}^nk'\\left(\\left\\|\\frac{x-x_i}{h}\\right\\|^2\\right)\\frac{2}{h^2}(x-x_i)\\\\\n",
    " & = &  \\frac{2}{h^2}\\frac{c_k}{nh^d}\\displaystyle\\left[x\\sum_{i=1}^nk'\\left(\\left\\|\\frac{x-x_i}{h}\\right\\|^2\\right)-\\sum_{i=1}^nx_ik'\\left(\\left\\|\\frac{x-x_i}{h}\\right\\|^2\\right)\\right]\\\\\n",
    " & = & \\frac{2}{h^2}\\frac{c_k}{nh^d}\\displaystyle\\left[\\sum_{i=1}^nx_ig\\left(\\left\\|\\frac{x-x_i}{h}\\right\\|^2\\right)-x\\sum_{i=1}^ng\\left(\\left\\|\\frac{x-x_i}{h}\\right\\|^2\\right)\\right]\\\\\n",
    " & = & \\frac{2}{h^2}\\frac{c_k}{nh^d}\\displaystyle\\sum_{i=1}^ng\\left(\\left\\|\\frac{x-x_i}{h}\\right\\|^2\\right)\\left[\\frac{\\sum_{i=1}^nx_ig\\left(\\left\\|\\frac{x-x_i}{h}\\right\\|^2\\right)}{\\sum_{i=1}^ng\\left(\\left\\|\\frac{x-x_i}{h}\\right\\|^2\\right)}-x\\right]\\\\\n",
    " & = & \\frac{2c_k}{h^2c_g}\\hat{f}_g(x)\\cdot m_g(x)\\\\\n",
    " & = & 0\n",
    "\\end{matrix} \n",
    "$$\n",
    "\n",
    "with $g(t)=-k'(t)$ and\n",
    "\n",
    "$$\n",
    "\\begin{matrix}\n",
    " \\hat{f}_g(x) & = & \\frac{c_g}{nh^d}\\displaystyle\\sum_{i=1}^ng\\left(\\left\\|\\frac{x-x_i}{h}\\right\\|^2\\right)\\\\\n",
    " m_g(x) & = & \\frac{\\sum_{i=1}^nx_ig\\left(\\left\\|\\frac{x-x_i}{h}\\right\\|^2\\right)}{\\sum_{i=1}^ng\\left(\\left\\|\\frac{x-x_i}{h}\\right\\|^2\\right)}-x\n",
    "\\end{matrix} \n",
    "$$\n",
    "\n",
    "where $c_g$ is again a normalization constant. In literature, $g$ is again named as a *profile* function of some (a priori unkonwn) kernel, while $k$ is called its *shadow*. The name of the method comes from the expression $m_g(x)$, which is a measure of the centroid (otherwise known simply as average or mean value) of the samples, displaced by the value $x$. Hence, ***Mean-Shift*** (MS).\n",
    "\n",
    "It is somewhat evident that this condition imposes that $m_g(x)=0$ when evaluated at the mode. Since approximating this value will be the target, a notion similar to a gradient-ascent method is used in this algorithm, by selecting values $x$ and redefining it as\n",
    "\n",
    "$$x\\ \\longleftarrow\\ \\frac{\\sum_{i=1}^nx_ig\\left(\\left\\|\\frac{x-x_i}{h}\\right\\|^2\\right)}{\\sum_{i=1}^ng\\left(\\left\\|\\frac{x-x_i}{h}\\right\\|^2\\right)}$$\n",
    "\n",
    "The method presented here pretends to enhance the performance of the above procedure, by choosing the parameter $h$ as a sequence of strictly decreasing values until reaching a last value, which in principle is the halting spot. That means choosing finite values $h_0>h_1>\\ldots>h_M$ such that $h_0>>h_M$ and the procedure described has some kind of convergence.\n",
    "\n",
    "As mentioned, the kernel we use is the gaussian, which has the negative exponential as its profile. Then it is straightforward the fact that profile and shadow functions are the same ($g(x)=-k'(x)=k(x)$). In fact, the gaussian kernel and its truncated version are the only ones satisfying this condition, and allows for even more simplification. From the definition of the kernel and the profile, and the fact that $|H|=h^{2d}$, we have that\n",
    "\n",
    "$$\n",
    "\\begin{matrix}\n",
    " & K(x) & = & k(\\|x\\|) & = & e^{-\\|x\\|}\\\\\n",
    "\\Longrightarrow & |H|^{-\\frac{1}{2}}K\\left(H^{-\\frac{1}{2}}x\\right) & = & \\frac{1}{h^d}k\\left(\\left\\|\\frac{x}{h}\\right\\|^2\\right) & = & \\frac{1}{h^d}e^{-\\frac{\\|x\\|^2}{h^2}}\\\\\n",
    "\\Longrightarrow & \\hat{f}_k(x) & = & \\hat{f}_g(x) & = & \\frac{c_{k|g}}{nh^d}\\displaystyle\\sum_{i=1} e^{-\\frac{\\|x-x_i\\|^2}{h^2}}\\\\\n",
    "\\Longrightarrow & c_k & = & c_g & = & \\frac{1}{\\sqrt{\\pi}^d} \n",
    "\\end{matrix} \n",
    "$$\n"
   ]
  },
  {
   "cell_type": "markdown",
   "metadata": {},
   "source": [
    "## 2. Fast Mean-Shift\n",
    "\n",
    "Since the later method is highly dependent on the choice of the steps $h$, yet simple, it is not really clear how to make that choice. One could explore different sets of sequences until obtaining stable results, always being aware of the trade-off between speed of convergence and the amount of steps to consider (i. e., the smaller the step, the faster and less precise the final value will be; the larger the step, with more precision the mode is achieved with more steps).\n",
    "\n",
    "This second approach uses the same results as before, but tries to enhance the performance of the method, while not explicitly choosing the steps value but by providing an implicit schema, iterating over the $x$ reevaluation until a tolerance is achieved.\n"
   ]
  },
  {
   "cell_type": "code",
   "execution_count": 1,
   "metadata": {},
   "outputs": [],
   "source": [
    "import matplotlib.pyplot as plt\n",
    "import numpy as np\n",
    "import time\n"
   ]
  },
  {
   "cell_type": "code",
   "execution_count": 279,
   "metadata": {},
   "outputs": [],
   "source": [
    "def simpnorm(x, mu, sig):\n",
    "    ex = - (((x - mu) / sig) ** 2) / 2\n",
    "    norm = (1 / np.sqrt(2 * np.pi)) / sig\n",
    "    distr = norm * np.exp(ex)\n",
    "    return distr\n",
    "\n",
    "def multnorm(xv, yv, mu, cov):\n",
    "    distr = np.zeros(xv.shape)\n",
    "    for i, x in enumerate(xv):\n",
    "        for j, y in enumerate(yv):\n",
    "            X = np.array([xv[i][j], yv[i][j]])\n",
    "            covinv = np.linalg.inv(cov)\n",
    "            ex = -(np.dot(X - mu, np.dot(covinv, X - mu))) / 2\n",
    "            den = np.sqrt(np.abs(np.linalg.det(covinv))) / (2 * np.pi)\n",
    "            distr[i][j] = den * np.exp(ex)\n",
    "    return distr\n"
   ]
  },
  {
   "cell_type": "code",
   "execution_count": 168,
   "metadata": {},
   "outputs": [],
   "source": [
    "def shadow(x):\n",
    "    e = np.exp(-x)\n",
    "    return e\n",
    "\n",
    "def profile(x):\n",
    "    e = np.exp(-x)\n",
    "    return e\n",
    "\n",
    "def pdfest(x, xsam, h):\n",
    "    if len(xsam.shape) == 1:\n",
    "        n = xsam.shape[0]\n",
    "        d = 1\n",
    "        cg = 1 / (np.sqrt(np.pi)) ** d\n",
    "        norm = cg / (n * (h ** d))\n",
    "        arg = (np.abs(x - xsam) / h) ** 2\n",
    "        est = np.sum(profile(arg))\n",
    "        \n",
    "    else:\n",
    "        n, d = xsam.shape\n",
    "        cg = 1 / (np.sqrt(np.pi)) ** d\n",
    "        norm = cg / (n * (h ** d))\n",
    "        arg = (np.linalg.norm(x - xsam, axis=1) / h) ** 2\n",
    "        est = np.sum(profile(arg))\n",
    "    \n",
    "    return norm * est\n",
    "\n",
    "def mshift(x, xsam, h):\n",
    "    if len(xsam.shape) == 1:\n",
    "        n = xsam.shape[0]\n",
    "        d = 1\n",
    "        cg = 1 / (np.sqrt(np.pi)) ** d\n",
    "        norm = cg / (n * h ** d)\n",
    "        arg = (np.abs(x - xsam) / h) ** 2\n",
    "        prof = profile(arg)\n",
    "        sum1 = np.sum(xsam.T * prof)\n",
    "        sum2 = np.sum(prof)\n",
    "        shift = (sum1 / sum2) - x\n",
    "        \n",
    "    else:\n",
    "        n, d = xsam.shape\n",
    "        cg = 1 / (np.sqrt(np.pi)) ** d\n",
    "        norm = cg / (n * h ** d)\n",
    "        arg = (np.linalg.norm(x - xsam, axis=1) / h) ** 2\n",
    "        prof = profile(arg)\n",
    "        sum1 = np.sum(xsam.T * prof, axis=1)\n",
    "        sum2 = np.sum(prof)\n",
    "        shift = (sum1 / sum2) - x\n",
    "    \n",
    "    return shift, norm * sum2\n",
    "\n",
    "def seqmshift(x0, xsam, hm):\n",
    "    xs = [x0]\n",
    "    xnew = x0\n",
    "    for i in range(len(hm)):\n",
    "        xnew, pdfestnew = mshift(xnew, xsam, hm[i])\n",
    "        xs.append(xnew)\n",
    "    xs = np.asarray(xs)\n",
    "    return xnew, pdfestnew, xs\n",
    "    "
   ]
  },
  {
   "cell_type": "markdown",
   "metadata": {},
   "source": [
    "## 1. 1-D examples\n",
    "\n",
    "### 1.1 Samples drawn from a simple normal distribution"
   ]
  },
  {
   "cell_type": "code",
   "execution_count": null,
   "metadata": {},
   "outputs": [],
   "source": [
    "mu1 = 0.5\n",
    "sigma1 = 0.8\n",
    "size1 = 10000\n",
    "\n",
    "xsam1 = np.random.normal(0.5, 0.8, size1)"
   ]
  },
  {
   "cell_type": "code",
   "execution_count": null,
   "metadata": {},
   "outputs": [],
   "source": [
    "m1 = np.linspace(0, 2, 100)\n",
    "hm1 = 6 + np.exp(-m1)\n",
    "\n",
    "plt.plot(m1, hm1, 'r.')\n",
    "plt.show()"
   ]
  },
  {
   "cell_type": "code",
   "execution_count": null,
   "metadata": {},
   "outputs": [],
   "source": [
    "x0 = 3\n",
    "\n",
    "ts = time.time()\n",
    "xf1, pf1, xs1 = seqmshift(x0, xsam1, hm1)\n",
    "tf = time.time()\n",
    "\n",
    "comptime = np.round(tf - ts, 3)\n",
    "print('Computation time: ' + str(comptime) + 's')"
   ]
  },
  {
   "cell_type": "code",
   "execution_count": null,
   "metadata": {},
   "outputs": [],
   "source": [
    "x = np.linspace(-4, 4, 1000)\n",
    "y1 = simpnorm(x)\n",
    "y2 = simpnorm(xs1)\n",
    "\n",
    "fig, ax = plt.subplots(1, 2, figsize=(13,6))\n",
    "\n",
    "ax[0].plot(xx, yy, 'b.', ms=0.5)\n",
    "ax[0].plot(xsam1, -0.05 - 0.1 * np.random.random(xsam1.shape[0]), '+k')\n",
    "\n",
    "ax[1].plot(x, y1, 'b.', ms=0.5)\n",
    "ax[1].plot(xs1, y2, 'r-', ms=0.5)\n",
    "ax[1].plot(xs1, y2, 'ro')\n",
    "ax[1].plot(xs1[-1], y2[-1], 'k*', ms=10)\n",
    "\n",
    "plt.show()"
   ]
  },
  {
   "cell_type": "code",
   "execution_count": null,
   "metadata": {},
   "outputs": [],
   "source": []
  },
  {
   "cell_type": "markdown",
   "metadata": {},
   "source": [
    "## 2-D examples"
   ]
  },
  {
   "cell_type": "code",
   "execution_count": 101,
   "metadata": {},
   "outputs": [],
   "source": [
    "np.random.seed(1)\n",
    "\n",
    "mu = np.asarray([0., 1.])\n",
    "cov = np.asarray([[1, 0.4], [0.4, 0.25]])\n",
    "size = 10000"
   ]
  },
  {
   "cell_type": "code",
   "execution_count": 102,
   "metadata": {},
   "outputs": [],
   "source": [
    "Nx = 85\n",
    "Ny = 85\n",
    "\n",
    "x = np.linspace(-4, 4 ,Nx)\n",
    "y = np.linspace(-4, 5, Ny)\n",
    "xv, yv = np.meshgrid(x, y)\n",
    "\n",
    "xsam = np.random.multivariate_normal(mu, cov, size)\n",
    "ev = multnorm(xv, yv, mu, cov)\n"
   ]
  },
  {
   "cell_type": "code",
   "execution_count": 120,
   "metadata": {},
   "outputs": [
    {
     "data": {
      "image/png": "[encoded data removed]",
      "text/plain": [
       "<Figure size 936x432 with 2 Axes>"
      ]
     },
     "metadata": {
      "needs_background": "light"
     },
     "output_type": "display_data"
    }
   ],
   "source": [
    "fig, ax = plt.subplots(1, 2, figsize=(13,6))\n",
    "\n",
    "ax[0].contourf(x, y, ev, cmap='viridis')\n",
    "ax[0].set_title('Generating pdf')\n",
    "\n",
    "ax[1].plot(xsam.T[0], xsam.T[1], 'k.', ms=1, zorder=1)\n",
    "ax[1].contour(x, y, ev, alpha=0.6, cmap='viridis', zorder=2)\n",
    "ax[1].set_xlim([x[0], x[-1]])\n",
    "ax[1].set_ylim([y[0], y[-1]])\n",
    "ax[1].set_title('n = ' + str(size) + ' samples')\n",
    "\n",
    "plt.show()\n"
   ]
  },
  {
   "cell_type": "code",
   "execution_count": null,
   "metadata": {},
   "outputs": [],
   "source": []
  },
  {
   "cell_type": "code",
   "execution_count": null,
   "metadata": {},
   "outputs": [],
   "source": []
  },
  {
   "cell_type": "code",
   "execution_count": null,
   "metadata": {},
   "outputs": [],
   "source": []
  },
  {
   "cell_type": "code",
   "execution_count": 276,
   "metadata": {},
   "outputs": [],
   "source": []
  },
  {
   "cell_type": "code",
   "execution_count": null,
   "metadata": {},
   "outputs": [],
   "source": []
  },
  {
   "cell_type": "code",
   "execution_count": null,
   "metadata": {},
   "outputs": [],
   "source": []
  },
  {
   "cell_type": "code",
   "execution_count": null,
   "metadata": {},
   "outputs": [],
   "source": []
  },
  {
   "cell_type": "code",
   "execution_count": 85,
   "metadata": {},
   "outputs": [
    {
     "data": {
      "text/plain": [
       "array([6., 6., 6., 6., 6., 6., 6., 6., 6., 6., 6., 6., 6., 6., 6., 6., 6.,\n",
       "       6., 6., 6., 6., 6., 6., 6., 6., 6., 6., 6., 6., 6., 6., 6., 6., 6.,\n",
       "       6., 6., 6., 6., 6., 6., 6., 6., 6., 6., 6., 6., 6., 6., 6., 6., 6.,\n",
       "       6., 6., 6., 6., 6., 6., 6., 6., 6., 6., 6., 6., 6., 6., 6., 6., 6.,\n",
       "       6., 6., 6., 6., 6., 6., 6., 6., 6., 6., 6., 6., 6., 6., 6., 6., 6.,\n",
       "       6., 6., 6., 6., 6., 6., 6., 6., 6., 6., 6., 6., 6., 6., 6., 6., 6.,\n",
       "       6., 6., 6., 6., 6., 6., 6., 6., 6., 6., 6., 6., 6., 6., 6., 6., 6.,\n",
       "       6., 6., 6., 6., 6., 6., 6., 6., 6., 6., 6., 6., 6., 6., 6., 6., 6.,\n",
       "       6., 6., 6., 6., 6., 6., 6., 6., 6., 6., 6., 6., 6., 6., 6.])"
      ]
     },
     "execution_count": 85,
     "metadata": {},
     "output_type": "execute_result"
    }
   ],
   "source": [
    "m2 = np.linspace(1,200,151)\n",
    "hm2 = 6 * m2 / m2"
   ]
  },
  {
   "cell_type": "code",
   "execution_count": 86,
   "metadata": {},
   "outputs": [
    {
     "name": "stdout",
     "output_type": "stream",
     "text": [
      "60.77134442329407\n"
     ]
    }
   ],
   "source": [
    "x0 = np.array([-1, -1])\n",
    "\n",
    "ts = time.time()\n",
    "xf2, pf2, xs2 = seqmshift(x0, xsam, hm2)\n",
    "print(time.time() - ts)"
   ]
  },
  {
   "cell_type": "code",
   "execution_count": 87,
   "metadata": {},
   "outputs": [
    {
     "data": {
      "image/png": "[encoded data removed]",
      "text/plain": [
       "<Figure size 936x432 with 1 Axes>"
      ]
     },
     "metadata": {
      "needs_background": "light"
     },
     "output_type": "display_data"
    }
   ],
   "source": [
    "fig = plt.figure(figsize=(13,6))\n",
    "\n",
    "plt.plot(xsam.T[0], xsam.T[1], 'b.', ms=0.5, zorder=1)\n",
    "plt.plot(xs2.T[0][1::2], xs2.T[1][1::2], 'r-', ms=0.5, zorder=2)\n",
    "plt.plot(xs2.T[0][1::2], xs2.T[1][1::2], 'ro', zorder=3)\n",
    "plt.plot(xs2[-1][0], xs2[-1][1], 'k*', ms=10, zorder=4)\n",
    "\n",
    "plt.show()"
   ]
  },
  {
   "cell_type": "code",
   "execution_count": 98,
   "metadata": {},
   "outputs": [
    {
     "data": {
      "text/plain": [
       "(array([-0.22119126,  0.9648624 ]), 0.004157752808496954)"
      ]
     },
     "execution_count": 98,
     "metadata": {},
     "output_type": "execute_result"
    }
   ],
   "source": [
    "xf2, pf2"
   ]
  },
  {
   "cell_type": "code",
   "execution_count": 75,
   "metadata": {},
   "outputs": [
    {
     "data": {
      "text/plain": [
       "(76,)"
      ]
     },
     "execution_count": 75,
     "metadata": {},
     "output_type": "execute_result"
    }
   ],
   "source": [
    "xs.T[0][::2].shape"
   ]
  },
  {
   "cell_type": "code",
   "execution_count": null,
   "metadata": {},
   "outputs": [],
   "source": []
  },
  {
   "cell_type": "code",
   "execution_count": null,
   "metadata": {},
   "outputs": [],
   "source": []
  },
  {
   "cell_type": "code",
   "execution_count": null,
   "metadata": {},
   "outputs": [],
   "source": []
  },
  {
   "cell_type": "code",
   "execution_count": null,
   "metadata": {},
   "outputs": [],
   "source": []
  },
  {
   "cell_type": "code",
   "execution_count": null,
   "metadata": {},
   "outputs": [],
   "source": []
  },
  {
   "cell_type": "code",
   "execution_count": null,
   "metadata": {},
   "outputs": [],
   "source": []
  },
  {
   "cell_type": "code",
   "execution_count": null,
   "metadata": {},
   "outputs": [],
   "source": []
  },
  {
   "cell_type": "code",
   "execution_count": null,
   "metadata": {},
   "outputs": [],
   "source": []
  },
  {
   "cell_type": "code",
   "execution_count": null,
   "metadata": {},
   "outputs": [],
   "source": []
  },
  {
   "cell_type": "code",
   "execution_count": null,
   "metadata": {},
   "outputs": [],
   "source": []
  },
  {
   "cell_type": "code",
   "execution_count": null,
   "metadata": {},
   "outputs": [],
   "source": []
  }
 ],
 "metadata": {
  "kernelspec": {
   "display_name": "Python 3",
   "language": "python",
   "name": "python3"
  },
  "language_info": {
   "codemirror_mode": {
    "name": "ipython",
    "version": 3
   },
   "file_extension": ".py",
   "mimetype": "text/x-python",
   "name": "python",
   "nbconvert_exporter": "python",
   "pygments_lexer": "ipython3",
   "version": "3.7.7"
  }
 },
 "nbformat": 4,
 "nbformat_minor": 4
}
