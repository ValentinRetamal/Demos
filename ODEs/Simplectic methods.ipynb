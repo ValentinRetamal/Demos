{
 "cells": [
  {
   "cell_type": "markdown",
   "metadata": {},
   "source": [
    "# Simplectic methods"
   ]
  },
  {
   "cell_type": "markdown",
   "metadata": {},
   "source": [
    "## 1. Order reduction.\n",
    "\n",
    "Before introducing the method, it is worth noticing that usually ODEs are presented as high-order differential equations, which is generally the main source of difficulties when looking for a solution, be it analytical or numerical.\n",
    "\n",
    "However, if we write our ODE in terms of an implicit solution function, it is possible to introduce dummy variables that account for the higher-order derivatives of our main function, while allowing us to rewrite the ODE as an ODE system (or, equivalently, a vector ODE).\n",
    "\n",
    "### 1.1 A simple introduction.\n",
    "\n",
    "First, let's see the simplest case: a second order ODE. Suppose we want to solve the equation\n",
    "\n",
    "\\begin{eqnarray}\n",
    "y''(t) &=& f\\left(t,y,y'\\right)\n",
    "\\end{eqnarray}\n",
    "\n",
    "with initial conditions $y(0)=y_0$ and $y'(0)=y'_0$. Then, if we define $y_1(t)=y(t)$ and $y_2(t)=y'(t)$, we have the following identities:\n",
    "\n",
    "\\begin{eqnarray}\n",
    "y''(t) &=& f\\left(t,y,y'\\right)\\\\\n",
    " &=& f\\left(t,y_1,y_2\\right)\\\\\n",
    " &=& y_2'(t)\n",
    "\\end{eqnarray}\n",
    "\n",
    "thus obtaining the system\n",
    "\n",
    "\\begin{eqnarray}\n",
    "y_1'(t) &=& y_2(t)\\\\\n",
    "y_2'(t) &=& f\\left(t,y_1,y_2\\right)\n",
    "\\end{eqnarray}\n",
    "\n",
    "which we can rewrite as\n",
    "\n",
    "\\begin{eqnarray}\n",
    "\\vec{Y}'(t) &=& \\vec{F}\\left(t,\\vec{Y}\\right)\n",
    "\\end{eqnarray}\n",
    "\n",
    "where $\\vec{Y}(t)=\\left(y_1(t),y_2(t)\\right)$ and $\\vec{F}(t)=\\left(y_2(t),f\\left(t,y_1,y_2\\right)\\right)$, with initial condition $\\vec{Y}(0)=\\left(y_0,y'_0\\right)$.\n",
    "\n",
    "### 1.2 The general case.\n",
    "\n",
    "Let\n",
    "\n",
    "\\begin{eqnarray}\n",
    "y^{[n]}(t) &=& f\\left(t,y,y',y'',...,y^{[n-1]}\\right)\n",
    "\\end{eqnarray}\n",
    "\n",
    "with initial conditions $y(0)=y_0$, $y'(0)=y'_0$, ..., $y^{[n-1]}(0)=y^{[n-1]}_0$.\n",
    "\n",
    "By defining $y_1(t)=y(t)$, $y_2(t)=y'(t)$, ..., $y_n(t)=y^{[n-1]}(t)$ we have the following identities:\n",
    "\n",
    "\\begin{eqnarray}\n",
    "y^{[n]}(t) &=& f\\left(t,y,y',y'',...,y^{[n-1]}\\right)\\\\\n",
    " &=& f\\left(t,y_1,y_2,y_3,...,y_n\\right)\\\\\n",
    " &=& y_n'(t)\n",
    "\\end{eqnarray}\n",
    "\n",
    "thus obtaining the system\n",
    "\n",
    "\\begin{eqnarray}\n",
    "y_1'(t) &=& y_2(t)\\\\\n",
    "y_2'(t) &=& y_3(t)\\\\\n",
    " &\\vdots& \\\\\n",
    "y_{n-1}'(t) &=& y_n(t)\\\\\n",
    "y_n'(t) &=& f\\left(t,y_1,y_2,y_3,...,y_n\\right)\n",
    "\\end{eqnarray}\n",
    "\n",
    "which we can rewrite as\n",
    "\n",
    "\\begin{eqnarray}\n",
    "\\vec{Y}'(t) &=& \\vec{F}\\left(t,\\vec{Y}\\right)\n",
    "\\end{eqnarray}\n",
    "\n",
    "where $\\vec{Y}(t)=\\left(y_1(t),\\ldots,y_n(t)\\right)$ and $\\vec{F}(t)=\\left(y_2(t),\\ldots,f\\left(t,y_1,\\ldots,y_n\\right)\\right)$, with initial condition $\\vec{Y}(0)=\\left(y_0,y'_0,\\ldots,y^{[n-1]}_0\\right)$.\n",
    "\n",
    "### 1.3 A useful sidenote\n",
    "\n",
    "There are some cases in which $\\vec{F}$ can be written as a product between a matrix $\\underline{M}$ and a vector $(y_1,...,y_n)$, so the equation would finally read as\n",
    "\n",
    "\\begin{eqnarray}\n",
    "\\vec{Y}'(t) &=& \\underline{M}(t)\\cdot\\vec{Y}(t)\n",
    "\\end{eqnarray}\n",
    "\n",
    "This is the case for linear equations or when inspecting equations local stability (as a linearized version of the original problem)."
   ]
  },
  {
   "cell_type": "markdown",
   "metadata": {},
   "source": []
  },
  {
   "cell_type": "markdown",
   "metadata": {},
   "source": []
  },
  {
   "cell_type": "code",
   "execution_count": null,
   "metadata": {},
   "outputs": [],
   "source": []
  },
  {
   "cell_type": "code",
   "execution_count": null,
   "metadata": {},
   "outputs": [],
   "source": []
  },
  {
   "cell_type": "code",
   "execution_count": null,
   "metadata": {},
   "outputs": [],
   "source": []
  }
 ],
 "metadata": {
  "kernelspec": {
   "display_name": "Python 3",
   "language": "python",
   "name": "python3"
  },
  "language_info": {
   "codemirror_mode": {
    "name": "ipython",
    "version": 3
   },
   "file_extension": ".py",
   "mimetype": "text/x-python",
   "name": "python",
   "nbconvert_exporter": "python",
   "pygments_lexer": "ipython3",
   "version": "3.7.7"
  }
 },
 "nbformat": 4,
 "nbformat_minor": 4
}
